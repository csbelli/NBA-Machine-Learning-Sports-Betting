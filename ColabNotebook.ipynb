{
  "cells": [
    {
      "cell_type": "markdown",
      "metadata": {
        "id": "84FCh7pFCA2U"
      },
      "source": [
        "You could use this notebook on [Google Colab](https://colab.research.google.com/) with a GPU Hardware Accelerator runtype."
      ]
    },
    {
      "cell_type": "markdown",
      "metadata": {
        "id": "aBeeVTbb_WLL"
      },
      "source": [
        "# Bootstrap Model\n"
      ]
    },
    {
      "cell_type": "code",
      "execution_count": null,
      "metadata": {
        "id": "cEOhYxk-ASjw"
      },
      "outputs": [],
      "source": [
        "#Remove Preexisting Files\n",
        "! rm -rf NBA-Machine-Learning-Sports-Betting\n",
        "! rm -rf *\n",
        "\n",
        "#Bootstrap Files\n",
        "! git clone https://github.com/kyleskom/NBA-Machine-Learning-Sports-Betting.git\n",
        "! mv -v ./NBA-Machine-Learning-Sports-Betting/* .\n",
        "! pip3 install -r requirements.txt\n",
        "\n",
        "#Clear Bootstrap Logs\n",
        "from IPython.display import clear_output \n",
        "clear_output()\n",
        "\n",
        "print(\"Successful Bootstrap!!!\")"
      ]
    },
    {
      "cell_type": "markdown",
      "metadata": {
        "id": "Wurq7KgC_ckH"
      },
      "source": [
        "# Run Model\n"
      ]
    },
    {
      "cell_type": "code",
      "execution_count": null,
      "metadata": {
        "id": "QBu_ZuXvNgqR"
      },
      "outputs": [],
      "source": [
        "#Set Timezone\n",
        "!rm /etc/localtime\n",
        "!ln -s /usr/share/zoneinfo/US/Central /etc/localtime\n",
        "!date\n",
        "\n",
        "! python3 main.py -nn -odds=draftkings"
      ]
    }
  ],
  "metadata": {
    "accelerator": "GPU",
    "colab": {
      "provenance": []
    },
    "gpuClass": "standard",
    "kernelspec": {
      "display_name": "Python 3",
      "language": "python",
      "name": "python3"
    },
    "language_info": {
      "name": "python",
      "version": "3.8.6"
    },
    "vscode": {
      "interpreter": {
        "hash": "9650cb4e16cdd4a8e8e2d128bf38d875813998db22a3c986335f89e0cb4d7bb2"
      }
    }
  },
  "nbformat": 4,
  "nbformat_minor": 0
}
